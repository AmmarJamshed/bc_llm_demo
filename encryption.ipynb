{
 "cells": [
  {
   "cell_type": "code",
   "execution_count": 4,
   "id": "ca3dc4ce-9e47-4133-9ee9-3092682e1427",
   "metadata": {},
   "outputs": [
    {
     "name": "stderr",
     "output_type": "stream",
     "text": [
      "2025-07-11 14:17:14.381 \n",
      "  \u001b[33m\u001b[1mWarning:\u001b[0m to view this Streamlit app on a browser, run it with the following\n",
      "  command:\n",
      "\n",
      "    streamlit run C:\\Users\\User\\AppData\\Roaming\\Python\\Python312\\site-packages\\ipykernel_launcher.py [ARGUMENTS]\n",
      "2025-07-11 14:17:14.382 Session state does not function when running a script without `streamlit run`\n"
     ]
    },
    {
     "data": {
      "text/plain": [
       "DeltaGenerator()"
      ]
     },
     "execution_count": 4,
     "metadata": {},
     "output_type": "execute_result"
    }
   ],
   "source": [
    "import streamlit as st\n",
    "from encryption import generate_key, encrypt_message, decrypt_message\n",
    "from blockchain import store_on_blockchain\n",
    "from llm import get_llm_response\n",
    "\n",
    "st.set_page_config(page_title=\"PrivateGPT on Anryton Blockchain\", layout=\"centered\")\n",
    "\n",
    "st.title(\"🔒 PrivateGPT: Blockchain-Backed LLM (Anryton Powered)\")\n",
    "\n",
    "# Key Generation\n",
    "if \"key\" not in st.session_state:\n",
    "    st.session_state.key = generate_key()\n",
    "\n",
    "st.info(\"Your encryption key is auto-generated for this session (simulating private wallet key).\")\n",
    "\n",
    "query = st.text_area(\"Enter your Private Query\")\n",
    "\n",
    "if st.button(\"🔐 Encrypt & Submit Query\"):\n",
    "    encrypted_query = encrypt_message(query, st.session_state.key)\n",
    "    tx_hash, transaction = store_on_blockchain(encrypted_query)\n",
    "    st.success(\"Query Encrypted & Stored on Blockchain (Simulated)\")\n",
    "    \n",
    "    # Simulate LLM response on encrypted query\n",
    "    llm_response = get_llm_response(query)\n",
    "    encrypted_response = encrypt_message(llm_response, st.session_state.key)\n",
    "    \n",
    "    st.write(\"**Transaction Hash:**\", tx_hash)\n",
    "    st.write(\"**Encrypted Response:**\", encrypted_response)\n",
    "    st.session_state.encrypted_response = encrypted_response\n",
    "\n",
    "if \"encrypted_response\" in st.session_state:\n",
    "    if st.button(\"🔓 Decrypt Response\"):\n",
    "        decrypted_response = decrypt_message(st.session_state.encrypted_response, st.session_state.key)\n",
    "        st.success(\"Response Decrypted Successfully!\")\n",
    "        st.write(decrypted_response)\n",
    "\n",
    "st.caption(\"🔗 Powered by Anryton Blockchain (Simulated) | Demo by Coursemon\")"
   ]
  },
  {
   "cell_type": "code",
   "execution_count": null,
   "id": "a2582061-087e-4032-ae90-432cd141289f",
   "metadata": {},
   "outputs": [],
   "source": []
  }
 ],
 "metadata": {
  "kernelspec": {
   "display_name": "Python 3 (ipykernel)",
   "language": "python",
   "name": "python3"
  },
  "language_info": {
   "codemirror_mode": {
    "name": "ipython",
    "version": 3
   },
   "file_extension": ".py",
   "mimetype": "text/x-python",
   "name": "python",
   "nbconvert_exporter": "python",
   "pygments_lexer": "ipython3",
   "version": "3.12.7"
  }
 },
 "nbformat": 4,
 "nbformat_minor": 5
}
